{
 "cells": [
  {
   "cell_type": "code",
   "execution_count": 2,
   "metadata": {},
   "outputs": [
    {
     "name": "stdout",
     "output_type": "stream",
     "text": [
      "Collecting pyomo\n",
      "  Downloading https://files.pythonhosted.org/packages/e4/df/3f4a54d494d429102c035308168bfd71aa0fac31832385ab356cb44560df/Pyomo-5.6.1-py3-none-any.whl (2.1MB)\n",
      "Requirement already satisfied: six>=1.4 in c:\\users\\jaylohokare\\anaconda3\\lib\\site-packages (from pyomo) (1.12.0)\n",
      "Collecting PyUtilib>=5.6.5 (from pyomo)\n",
      "  Downloading https://files.pythonhosted.org/packages/43/04/9174c992ab7b5d5c9c29c0dce3ffbe2440dcfaf054a83b536f8253ce8384/PyUtilib-5.6.5-py2.py3-none-any.whl (250kB)\n",
      "Requirement already satisfied: ply in c:\\users\\jaylohokare\\anaconda3\\lib\\site-packages (from pyomo) (3.11)\n",
      "Collecting appdirs (from pyomo)\n",
      "  Downloading https://files.pythonhosted.org/packages/56/eb/810e700ed1349edde4cbdc1b2a21e28cdf115f9faf263f6bbf8447c1abf3/appdirs-1.4.3-py2.py3-none-any.whl\n",
      "Requirement already satisfied: nose in c:\\users\\jaylohokare\\anaconda3\\lib\\site-packages (from PyUtilib>=5.6.5->pyomo) (1.3.7)\n",
      "Installing collected packages: PyUtilib, appdirs, pyomo\n",
      "Successfully installed PyUtilib-5.6.5 appdirs-1.4.3 pyomo-5.6.1\n"
     ]
    }
   ],
   "source": [
    "!pip install pyomo"
   ]
  },
  {
   "cell_type": "markdown",
   "metadata": {},
   "source": [
    "# Problem Statement\n",
    "\n",
    "https://towardsdatascience.com/modeling-and-optimization-of-a-weekly-workforce-with-python-and-pyomo-29484ba065bb\n",
    "\n",
    "A new food store has been opened at the University Campus which will be open 24 hours a day, 7 days a week. Each day, there are three eight-hour shifts. Morning shift is from 6:00 to 14:00, evening shift is from 14:00 to 22:00 and night shift is from 22:00 to 6:00 of the next day.\n",
    "\n",
    "During the night there is only one worker while during the day there are two, except on Sunday that there is only one for each shift. Each worker will not exceed a maximum of 40 hours per week and have to rest for 12 hours between two shifts.\n",
    "\n",
    "As for the weekly rest days, an employee who rests one Sunday will also prefer to do the same that Saturday.\n",
    "\n",
    "In principle, there are available ten employees, which is clearly over-sized. The less the workers are needed, the more the resources for other stores."
   ]
  },
  {
   "cell_type": "code",
   "execution_count": 3,
   "metadata": {},
   "outputs": [],
   "source": [
    "from pyomo.environ import *\n",
    "from pyomo.opt import SolverFactory"
   ]
  },
  {
   "cell_type": "code",
   "execution_count": 11,
   "metadata": {},
   "outputs": [],
   "source": [
    "# Define days (1 week)\n",
    "days = ['Mon', 'Tue', 'Wed', 'Thu', 'Fri', 'Sat', 'Sun']\n",
    "\n",
    "# Enter shifts of each day\n",
    "shifts = ['morning', 'evening', 'night']  # 3 shifts of 8 hours\n",
    "days_shifts = {day: shifts for day in days}  # dict with day as key and list of its shifts as value\n",
    "\n",
    "# Enter workers ids (name, number, ...)\n",
    "workers = ['W' + str(i) for i in range(1, 11)]  # 10 workers available, more than needed"
   ]
  },
  {
   "cell_type": "code",
   "execution_count": 6,
   "metadata": {},
   "outputs": [],
   "source": [
    "# Initialize model\n",
    "model = ConcreteModel()\n",
    "\n",
    "# binary variables representing if a worker is scheduled somewhere\n",
    "model.works = Var(((worker, day, shift) for worker in workers for day in days for shift in days_shifts[day]),\n",
    "                  within=Binary, initialize=0)\n",
    "\n",
    "# binary variables representing if a worker is necessary\n",
    "model.needed = Var(workers, within=Binary, initialize=0)\n",
    "\n",
    "# binary variables representing if a worker worked on sunday but not on saturday (avoid if possible)\n",
    "model.no_pref = Var(workers, within=Binary, initialize=0)"
   ]
  },
  {
   "cell_type": "code",
   "execution_count": 14,
   "metadata": {},
   "outputs": [],
   "source": [
    "\n",
    "# Define an objective function with model as input, to pass later\n",
    "def obj_rule(m):\n",
    "    c = len(workers)\n",
    "    return sum(m.no_pref[worker] for worker in workers) + sum(c * m.needed[worker] for worker in workers)\n",
    "# we multiply the second term by a constant to make sure that it is the primary objective\n",
    "# since sum(m.no_prefer) is at most len(workers), len(workers) + 1 is a valid constant.\n",
    "\n",
    "\n",
    "# add objective function to the model. rule (pass function) or expr (pass expression directly)\n",
    "model.obj = Objective(rule=obj_rule, sense=minimize)"
   ]
  },
  {
   "cell_type": "code",
   "execution_count": null,
   "metadata": {},
   "outputs": [],
   "source": [
    "model.constraints = ConstraintList()  # Create a set of constraints\n",
    "\n",
    "# Constraint: all shifts are assigned\n",
    "for day in days:\n",
    "    for shift in days_shifts[day]:\n",
    "        if day in days[:-1] and shift in ['morning', 'evening']:\n",
    "            # weekdays' and Saturdays' day shifts have exactly two workers\n",
    "            model.constraints.add(  # to add a constraint to model.constraints set\n",
    "                2 == sum(model.works[worker, day, shift] for worker in workers)\n",
    "            )\n",
    "        else:\n",
    "            # Sundays' and nights' shifts have exactly one worker\n",
    "            model.constraints.add(\n",
    "                1 == sum(model.works[worker, day, shift] for worker in workers)\n",
    "            )\n",
    "\n",
    "# Constraint: no more than 40 hours worked\n",
    "for worker in workers:\n",
    "    model.constraints.add(\n",
    "        40 >= sum(8 * model.works[worker, day, shift] for day in days for shift in days_shifts[day])\n",
    "    )\n",
    "\n",
    "# Constraint: rest between two shifts is of 12 hours (i.e., at least two shifts)\n",
    "for worker in workers:\n",
    "    for j in range(len(days)):\n",
    "        # if working in morning, cannot work again that day\n",
    "        model.constraints.add(\n",
    "            1 >= sum(model.works[worker, days[j], shift] for shift in days_shifts[days[j]])\n",
    "        )\n",
    "        # if working in evening, until next evening (note that after sunday comes next monday)\n",
    "        model.constraints.add(\n",
    "            1 >= sum(model.works[worker, days[j], shift] for shift in ['evening', 'night']) +\n",
    "            model.works[worker, days[(j + 1) % 7], 'morning']\n",
    "        )\n",
    "        # if working in night, until next night\n",
    "        model.constraints.add(\n",
    "            1 >= model.works[worker, days[j], 'night'] +\n",
    "            sum(model.works[worker, days[(j + 1) % 7], shift] for shift in ['morning', 'evening'])\n",
    "        )\n",
    "\n",
    "# Constraint (def of model.needed)\n",
    "for worker in workers:\n",
    "    model.constraints.add(\n",
    "        10000 * model.needed[worker] >= sum(model.works[worker, day, shift] for day in days for shift in days_shifts[day])\n",
    "    )  # if any model.works[worker, ·, ·] non-zero, model.needed[worker] must be one; else is zero to reduce the obj function\n",
    "    # 10000 is to remark, but 5 was enough since max of 40 hours yields max of 5 shifts, the maximum possible sum\n",
    "\n",
    "# Constraint (def of model.no_pref)\n",
    "for worker in workers:\n",
    "    model.constraints.add(\n",
    "        model.no_pref[worker] >= sum(model.works[worker, 'Sat', shift] for shift in days_shifts['Sat'])\n",
    "        - sum(model.works[worker, 'Sun', shift] for shift in days_shifts['Sun'])\n",
    "    )  # if not working on sunday but working saturday model.needed must be 1; else will be zero to reduce the obj function"
   ]
  },
  {
   "cell_type": "code",
   "execution_count": 16,
   "metadata": {},
   "outputs": [
    {
     "name": "stdout",
     "output_type": "stream",
     "text": [
      "WARNING: Could not locate the 'cbc' executable, which is required for solver\n",
      "    cbc\n"
     ]
    },
    {
     "ename": "ApplicationError",
     "evalue": "No executable found for solver 'cbc'",
     "output_type": "error",
     "traceback": [
      "\u001b[1;31m---------------------------------------------------------------------------\u001b[0m",
      "\u001b[1;31mApplicationError\u001b[0m                          Traceback (most recent call last)",
      "\u001b[1;32m<ipython-input-16-617fee0f7596>\u001b[0m in \u001b[0;36m<module>\u001b[1;34m\u001b[0m\n\u001b[0;32m      1\u001b[0m \u001b[1;31m#Download model here - https://ampl.com/products/solvers/open-source/#cbc\u001b[0m\u001b[1;33m\u001b[0m\u001b[1;33m\u001b[0m\u001b[1;33m\u001b[0m\u001b[0m\n\u001b[0;32m      2\u001b[0m \u001b[0mopt\u001b[0m \u001b[1;33m=\u001b[0m \u001b[0mSolverFactory\u001b[0m\u001b[1;33m(\u001b[0m\u001b[1;34m'cbc'\u001b[0m\u001b[1;33m)\u001b[0m  \u001b[1;31m# choose a solver\u001b[0m\u001b[1;33m\u001b[0m\u001b[1;33m\u001b[0m\u001b[0m\n\u001b[1;32m----> 3\u001b[1;33m \u001b[0mresults\u001b[0m \u001b[1;33m=\u001b[0m \u001b[0mopt\u001b[0m\u001b[1;33m.\u001b[0m\u001b[0msolve\u001b[0m\u001b[1;33m(\u001b[0m\u001b[0mmodel\u001b[0m\u001b[1;33m)\u001b[0m  \u001b[1;31m# solve the model with the selected solver\u001b[0m\u001b[1;33m\u001b[0m\u001b[1;33m\u001b[0m\u001b[0m\n\u001b[0m",
      "\u001b[1;32m~\\Anaconda3\\lib\\site-packages\\pyomo\\opt\\base\\solvers.py\u001b[0m in \u001b[0;36msolve\u001b[1;34m(self, *args, **kwds)\u001b[0m\n\u001b[0;32m    510\u001b[0m         \u001b[1;34m\"\"\" Solve the problem \"\"\"\u001b[0m\u001b[1;33m\u001b[0m\u001b[1;33m\u001b[0m\u001b[0m\n\u001b[0;32m    511\u001b[0m \u001b[1;33m\u001b[0m\u001b[0m\n\u001b[1;32m--> 512\u001b[1;33m         \u001b[0mself\u001b[0m\u001b[1;33m.\u001b[0m\u001b[0mavailable\u001b[0m\u001b[1;33m(\u001b[0m\u001b[0mexception_flag\u001b[0m\u001b[1;33m=\u001b[0m\u001b[1;32mTrue\u001b[0m\u001b[1;33m)\u001b[0m\u001b[1;33m\u001b[0m\u001b[1;33m\u001b[0m\u001b[0m\n\u001b[0m\u001b[0;32m    513\u001b[0m         \u001b[1;31m#\u001b[0m\u001b[1;33m\u001b[0m\u001b[1;33m\u001b[0m\u001b[1;33m\u001b[0m\u001b[0m\n\u001b[0;32m    514\u001b[0m         \u001b[1;31m# If the inputs are models, then validate that they have been\u001b[0m\u001b[1;33m\u001b[0m\u001b[1;33m\u001b[0m\u001b[1;33m\u001b[0m\u001b[0m\n",
      "\u001b[1;32m~\\Anaconda3\\lib\\site-packages\\pyomo\\opt\\solver\\shellcmd.py\u001b[0m in \u001b[0;36mavailable\u001b[1;34m(self, exception_flag)\u001b[0m\n\u001b[0;32m    124\u001b[0m             \u001b[1;32mif\u001b[0m \u001b[0mexception_flag\u001b[0m\u001b[1;33m:\u001b[0m\u001b[1;33m\u001b[0m\u001b[1;33m\u001b[0m\u001b[0m\n\u001b[0;32m    125\u001b[0m                 \u001b[0mmsg\u001b[0m \u001b[1;33m=\u001b[0m \u001b[1;34m\"No executable found for solver '%s'\"\u001b[0m\u001b[1;33m\u001b[0m\u001b[1;33m\u001b[0m\u001b[0m\n\u001b[1;32m--> 126\u001b[1;33m                 \u001b[1;32mraise\u001b[0m \u001b[0mApplicationError\u001b[0m\u001b[1;33m(\u001b[0m\u001b[0mmsg\u001b[0m \u001b[1;33m%\u001b[0m \u001b[0mself\u001b[0m\u001b[1;33m.\u001b[0m\u001b[0mname\u001b[0m\u001b[1;33m)\u001b[0m\u001b[1;33m\u001b[0m\u001b[1;33m\u001b[0m\u001b[0m\n\u001b[0m\u001b[0;32m    127\u001b[0m             \u001b[1;32mreturn\u001b[0m \u001b[1;32mFalse\u001b[0m\u001b[1;33m\u001b[0m\u001b[1;33m\u001b[0m\u001b[0m\n\u001b[0;32m    128\u001b[0m         \u001b[1;32mreturn\u001b[0m \u001b[1;32mTrue\u001b[0m\u001b[1;33m\u001b[0m\u001b[1;33m\u001b[0m\u001b[0m\n",
      "\u001b[1;31mApplicationError\u001b[0m: No executable found for solver 'cbc'"
     ]
    }
   ],
   "source": [
    "#Download model here - https://ampl.com/products/solvers/open-source/#cbc\n",
    "opt = SolverFactory('cbc')  # choose a solver\n",
    "results = opt.solve(model)  # solve the model with the selected solver"
   ]
  },
  {
   "cell_type": "code",
   "execution_count": null,
   "metadata": {},
   "outputs": [],
   "source": []
  },
  {
   "cell_type": "code",
   "execution_count": null,
   "metadata": {},
   "outputs": [],
   "source": []
  }
 ],
 "metadata": {
  "kernelspec": {
   "display_name": "Python 3",
   "language": "python",
   "name": "python3"
  },
  "language_info": {
   "codemirror_mode": {
    "name": "ipython",
    "version": 3
   },
   "file_extension": ".py",
   "mimetype": "text/x-python",
   "name": "python",
   "nbconvert_exporter": "python",
   "pygments_lexer": "ipython3",
   "version": "3.7.3"
  }
 },
 "nbformat": 4,
 "nbformat_minor": 2
}
